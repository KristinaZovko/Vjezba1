{
 "cells": [
  {
   "cell_type": "code",
   "execution_count": 18,
   "metadata": {},
   "outputs": [],
   "source": [
    "#Markovljev model izvora informacije "
   ]
  },
  {
   "cell_type": "code",
   "execution_count": 19,
   "metadata": {},
   "outputs": [],
   "source": [
    "import numpy as np\n",
    "from numpy.linalg import matrix_power"
   ]
  },
  {
   "cell_type": "code",
   "execution_count": 20,
   "metadata": {},
   "outputs": [],
   "source": [
    "#2. Koliko će kupaca čokolade tvrtke A kupovati čokoladu tvrtke A nakon 3 tjedna reklamiranja?"
   ]
  },
  {
   "cell_type": "code",
   "execution_count": 21,
   "metadata": {},
   "outputs": [],
   "source": [
    "P0 = np.matrix([0.3, 0.7])\n",
    "P = np.matrix([[0.9, 0.1], [0.6, 0.4]])"
   ]
  },
  {
   "cell_type": "code",
   "execution_count": 22,
   "metadata": {},
   "outputs": [],
   "source": [
    "P_3 = matrix_power(P, 3)\n",
    "P1 = np.matmul(P0, P_3)"
   ]
  },
  {
   "cell_type": "code",
   "execution_count": 23,
   "metadata": {},
   "outputs": [],
   "source": [
    "#3. Koliko će kupaca čokolade tvrtke A kupovati čokoladu tvrtke A nakon 100 tjedna reklamiranja?"
   ]
  },
  {
   "cell_type": "code",
   "execution_count": 24,
   "metadata": {},
   "outputs": [],
   "source": [
    "P_100 = matrix_power(P, 100)\n",
    "P100 = np.matmul(P0, P_100)"
   ]
  }
 ],
 "metadata": {
  "kernelspec": {
   "display_name": "Python 3.10.7 64-bit",
   "language": "python",
   "name": "python3"
  },
  "language_info": {
   "codemirror_mode": {
    "name": "ipython",
    "version": 3
   },
   "file_extension": ".py",
   "mimetype": "text/x-python",
   "name": "python",
   "nbconvert_exporter": "python",
   "pygments_lexer": "ipython3",
   "version": "3.10.7"
  },
  "orig_nbformat": 4,
  "vscode": {
   "interpreter": {
    "hash": "5a36513f412afdeddc38b9c575c40b93e63b8480e65e63aae78c9ff9a3d29bf5"
   }
  }
 },
 "nbformat": 4,
 "nbformat_minor": 2
}
